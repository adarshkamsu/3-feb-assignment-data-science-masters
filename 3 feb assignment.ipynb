{
 "cells": [
  {
   "cell_type": "markdown",
   "id": "83945ed4-08b2-4a6e-a76f-aea84d414a04",
   "metadata": {},
   "source": [
    "####  Q1. Which keyword is used to create a function? Create a function to return a list of odd numbers in the\n",
    "####      range of 1 to 25."
   ]
  },
  {
   "cell_type": "code",
   "execution_count": 1,
   "id": "1f68c74c-4ade-4fc3-8a7b-0764de265deb",
   "metadata": {},
   "outputs": [],
   "source": [
    "# def is the keyword used to create a function.  "
   ]
  },
  {
   "cell_type": "code",
   "execution_count": 34,
   "id": "772d9ab3-ddac-46bc-ab81-be5677d8c500",
   "metadata": {},
   "outputs": [],
   "source": [
    "def get_odd_numbers():\n",
    "    n = []\n",
    "    for i in range(1,26):\n",
    "        if i % 2 != 0:\n",
    "            n.append(i)\n",
    "    return n       "
   ]
  },
  {
   "cell_type": "code",
   "execution_count": 35,
   "id": "82f21fa9-e0c3-4e1f-a4ed-639278b9cb91",
   "metadata": {},
   "outputs": [
    {
     "data": {
      "text/plain": [
       "[1, 3, 5, 7, 9, 11, 13, 15, 17, 19, 21, 23, 25]"
      ]
     },
     "execution_count": 35,
     "metadata": {},
     "output_type": "execute_result"
    }
   ],
   "source": [
    "get_odd_numbers()"
   ]
  },
  {
   "cell_type": "code",
   "execution_count": null,
   "id": "e1187ff7-7186-4cde-b086-f81f7a6356a6",
   "metadata": {},
   "outputs": [],
   "source": []
  },
  {
   "cell_type": "markdown",
   "id": "41a4f94a-283a-4f6b-b387-2dee5bb94518",
   "metadata": {},
   "source": [
    "#### Q2. Why *args and **kwargs is used in some functions? Create a function each for *args and **kwargs to\n",
    "#####    demonstrate their use."
   ]
  },
  {
   "cell_type": "code",
   "execution_count": 36,
   "id": "df54d1d9-6872-47da-a431-4ab260c27950",
   "metadata": {},
   "outputs": [],
   "source": [
    "##  *args is used in some functions because it takes the no.of arguments in the function without showing any errors."
   ]
  },
  {
   "cell_type": "code",
   "execution_count": 37,
   "id": "1863fb6c-96f7-4f6b-8da3-12fbd9029248",
   "metadata": {},
   "outputs": [],
   "source": [
    "##  *args it is not neccesary to write only *args , we can give any name with asteric symbol. (ex: *pwskills)"
   ]
  },
  {
   "cell_type": "code",
   "execution_count": null,
   "id": "ff22e207-c5b6-424a-b436-2a72a84616bb",
   "metadata": {},
   "outputs": [],
   "source": []
  },
  {
   "cell_type": "code",
   "execution_count": 38,
   "id": "68a37326-e319-4222-830d-08ab43963162",
   "metadata": {},
   "outputs": [],
   "source": [
    "##  **kwargs is also nothing but a keyword arguments . **kwargs is used to pass a variable number of keyword arguments to a function. "
   ]
  },
  {
   "cell_type": "code",
   "execution_count": 51,
   "id": "79d889fc-8e95-4ab4-a06a-914d787ea503",
   "metadata": {},
   "outputs": [],
   "source": [
    "##  it allows the function to accept any number of keyword arguments, which are then gathered into a dictionary form."
   ]
  },
  {
   "cell_type": "code",
   "execution_count": null,
   "id": "5bdf3af9-7a25-4301-a0a6-71964ba46b25",
   "metadata": {},
   "outputs": [],
   "source": []
  },
  {
   "cell_type": "code",
   "execution_count": 40,
   "id": "5b996e1c-dca6-4277-8086-afca3ed1769c",
   "metadata": {},
   "outputs": [],
   "source": [
    "def test(*args):\n",
    "    return args\n"
   ]
  },
  {
   "cell_type": "code",
   "execution_count": 41,
   "id": "29eac754-58d4-44a8-aa4c-eb4983b19da0",
   "metadata": {},
   "outputs": [
    {
     "data": {
      "text/plain": [
       "(1, 2, 3, 'pwskills')"
      ]
     },
     "execution_count": 41,
     "metadata": {},
     "output_type": "execute_result"
    }
   ],
   "source": [
    "test(1,2,3,\"pwskills\")"
   ]
  },
  {
   "cell_type": "code",
   "execution_count": null,
   "id": "594d427f-fd78-44ad-a7c5-d1cb6f2ef3be",
   "metadata": {},
   "outputs": [],
   "source": []
  },
  {
   "cell_type": "code",
   "execution_count": 42,
   "id": "59d7f9ed-5088-4b9f-8e7b-df3d3337c7ca",
   "metadata": {},
   "outputs": [],
   "source": [
    "def test(**kwargs):\n",
    "    return kwargs"
   ]
  },
  {
   "cell_type": "code",
   "execution_count": 50,
   "id": "19037ca9-0af5-4ae9-83da-08ede5dbdfa2",
   "metadata": {},
   "outputs": [
    {
     "data": {
      "text/plain": [
       "{'a': 'datascience', 'b': 'success'}"
      ]
     },
     "execution_count": 50,
     "metadata": {},
     "output_type": "execute_result"
    }
   ],
   "source": [
    "test(a = \"datascience\" ,b =\"success\")"
   ]
  },
  {
   "cell_type": "code",
   "execution_count": null,
   "id": "3006b34d-001b-4d62-b5b3-75ce506e3cf6",
   "metadata": {},
   "outputs": [],
   "source": []
  },
  {
   "cell_type": "markdown",
   "id": "f10e2e1f-7e0e-49cf-b55c-4fcdefab9124",
   "metadata": {},
   "source": [
    "#### Q3. What is an iterator in python? Name the method used to initialise the iterator object and the method\n",
    "#### used for iteration. Use these methods to print the first five elements of the given list [2, 4, 6, 8, 10, 12, 14, 16,\n",
    "####  18, 20]."
   ]
  },
  {
   "cell_type": "code",
   "execution_count": null,
   "id": "80b2312e-fd06-4a8a-b531-0836775daf36",
   "metadata": {},
   "outputs": [],
   "source": [
    "##  Iterator in Python is an object that is used to iterate over iterable objects like lists, tuples, dicts, and sets."
   ]
  },
  {
   "cell_type": "code",
   "execution_count": 3,
   "id": "39fce390-92e7-4434-9525-0afe69a5cb10",
   "metadata": {},
   "outputs": [],
   "source": [
    "##  The iterator object is initialized using the iter() method. It uses the next() method for iteration. __next__(): The next method returns the next value for the iterable."
   ]
  },
  {
   "cell_type": "code",
   "execution_count": 4,
   "id": "d6761568-6c8f-4b9c-88bb-5f238ea2809b",
   "metadata": {},
   "outputs": [
    {
     "name": "stdout",
     "output_type": "stream",
     "text": [
      "2\n",
      "4\n",
      "6\n",
      "8\n",
      "10\n"
     ]
    }
   ],
   "source": [
    "my_list = [2, 4, 6, 8, 10, 12, 14, 16, 18, 20]\n",
    "my_iterator = iter(my_list)\n",
    "\n",
    "for i in range(5):\n",
    "    print(next(my_iterator))"
   ]
  },
  {
   "cell_type": "code",
   "execution_count": null,
   "id": "abe59983-b43d-4cbc-9763-4ff9aae129f3",
   "metadata": {},
   "outputs": [],
   "source": []
  },
  {
   "cell_type": "markdown",
   "id": "9dc79054-7702-4b57-95c4-c77be5239f8a",
   "metadata": {},
   "source": [
    "#### Q4. What is a generator function in python? Why yield keyword is used? Give an example of a generator\n",
    "####    function."
   ]
  },
  {
   "cell_type": "code",
   "execution_count": 6,
   "id": "2b899a15-3b37-408d-8549-c7c530a66a05",
   "metadata": {},
   "outputs": [],
   "source": [
    "## In Python, a generator function is a special type of function that generates a sequence of values or objects, one at a time."
   ]
  },
  {
   "cell_type": "code",
   "execution_count": 7,
   "id": "4923fa8a-b62f-4eb4-b1bf-23b3a8da42be",
   "metadata": {},
   "outputs": [],
   "source": [
    "## using the \"yield\" keyword instead of \"return\". A generator function can be used to iterate over a large or infinite sequence of values without loading all of them into memory at once"
   ]
  },
  {
   "cell_type": "code",
   "execution_count": null,
   "id": "aec041fe-98b2-47b0-bae6-f9a5a4cd26b1",
   "metadata": {},
   "outputs": [],
   "source": []
  },
  {
   "cell_type": "code",
   "execution_count": 10,
   "id": "44c89fb8-2361-4a43-bc34-7a545edbaf4b",
   "metadata": {},
   "outputs": [],
   "source": [
    "## yield keyword is used because the \"yield\" keyword is used to pause the execution of the generator function and return a value to the caller. The state of the function is saved, so that when the function is called again, it resumes execution from where it left off, continuing to generate the next value in the sequence."
   ]
  },
  {
   "cell_type": "code",
   "execution_count": 11,
   "id": "03e36dfd-c63d-450c-bb25-f9a7335bcad3",
   "metadata": {},
   "outputs": [
    {
     "name": "stdout",
     "output_type": "stream",
     "text": [
      "0\n",
      "2\n",
      "4\n",
      "6\n",
      "8\n",
      "10\n"
     ]
    }
   ],
   "source": [
    "def even_numbers(maximum):\n",
    "    num = 0\n",
    "    while num <= maximum:\n",
    "        yield num\n",
    "        num += 2\n",
    "for num in even_numbers(10):\n",
    "    print(num)\n"
   ]
  },
  {
   "cell_type": "code",
   "execution_count": null,
   "id": "dba2d0dc-bad4-4307-b95e-eaa094096a1b",
   "metadata": {},
   "outputs": [],
   "source": []
  },
  {
   "cell_type": "markdown",
   "id": "8b4f32ca-8406-4323-acc8-674bd91c3541",
   "metadata": {},
   "source": [
    "#### Q5. Create a generator function for prime numbers less than 1000. Use the next() method to print the\n",
    "####  first 20 prime numbers."
   ]
  },
  {
   "cell_type": "code",
   "execution_count": null,
   "id": "90777eae-362e-4148-803d-a7a16726ada8",
   "metadata": {},
   "outputs": [],
   "source": []
  }
 ],
 "metadata": {
  "kernelspec": {
   "display_name": "Python 3 (ipykernel)",
   "language": "python",
   "name": "python3"
  },
  "language_info": {
   "codemirror_mode": {
    "name": "ipython",
    "version": 3
   },
   "file_extension": ".py",
   "mimetype": "text/x-python",
   "name": "python",
   "nbconvert_exporter": "python",
   "pygments_lexer": "ipython3",
   "version": "3.10.8"
  }
 },
 "nbformat": 4,
 "nbformat_minor": 5
}
